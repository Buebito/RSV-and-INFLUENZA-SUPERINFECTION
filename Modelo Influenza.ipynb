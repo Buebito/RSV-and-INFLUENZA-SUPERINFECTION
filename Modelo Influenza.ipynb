{
 "cells": [
  {
   "cell_type": "markdown",
   "metadata": {},
   "source": [
    "# Influenza"
   ]
  },
  {
   "cell_type": "code",
   "execution_count": 4,
   "metadata": {},
   "outputs": [
    {
     "name": "stderr",
     "output_type": "stream",
     "text": [
      "/Library/Frameworks/Python.framework/Versions/3.13/lib/python3.13/site-packages/openpyxl/worksheet/_reader.py:329: UserWarning: Unknown extension is not supported and will be removed\n",
      "  warn(msg)\n"
     ]
    },
    {
     "data": {
      "text/html": [
       "<div>\n",
       "<style scoped>\n",
       "    .dataframe tbody tr th:only-of-type {\n",
       "        vertical-align: middle;\n",
       "    }\n",
       "\n",
       "    .dataframe tbody tr th {\n",
       "        vertical-align: top;\n",
       "    }\n",
       "\n",
       "    .dataframe thead th {\n",
       "        text-align: right;\n",
       "    }\n",
       "</style>\n",
       "<table border=\"1\" class=\"dataframe\">\n",
       "  <thead>\n",
       "    <tr style=\"text-align: right;\">\n",
       "      <th></th>\n",
       "      <th>Year</th>\n",
       "      <th>Epidemiological week</th>\n",
       "      <th>Influenza</th>\n",
       "    </tr>\n",
       "  </thead>\n",
       "  <tbody>\n",
       "    <tr>\n",
       "      <th>0</th>\n",
       "      <td>2003</td>\n",
       "      <td>1</td>\n",
       "      <td>0</td>\n",
       "    </tr>\n",
       "    <tr>\n",
       "      <th>1</th>\n",
       "      <td>2003</td>\n",
       "      <td>2</td>\n",
       "      <td>0</td>\n",
       "    </tr>\n",
       "    <tr>\n",
       "      <th>2</th>\n",
       "      <td>2003</td>\n",
       "      <td>3</td>\n",
       "      <td>0</td>\n",
       "    </tr>\n",
       "    <tr>\n",
       "      <th>3</th>\n",
       "      <td>2003</td>\n",
       "      <td>4</td>\n",
       "      <td>0</td>\n",
       "    </tr>\n",
       "    <tr>\n",
       "      <th>4</th>\n",
       "      <td>2003</td>\n",
       "      <td>5</td>\n",
       "      <td>2</td>\n",
       "    </tr>\n",
       "    <tr>\n",
       "      <th>...</th>\n",
       "      <td>...</td>\n",
       "      <td>...</td>\n",
       "      <td>...</td>\n",
       "    </tr>\n",
       "    <tr>\n",
       "      <th>359</th>\n",
       "      <td>2009</td>\n",
       "      <td>48</td>\n",
       "      <td>8</td>\n",
       "    </tr>\n",
       "    <tr>\n",
       "      <th>360</th>\n",
       "      <td>2009</td>\n",
       "      <td>49</td>\n",
       "      <td>10</td>\n",
       "    </tr>\n",
       "    <tr>\n",
       "      <th>361</th>\n",
       "      <td>2009</td>\n",
       "      <td>50</td>\n",
       "      <td>2</td>\n",
       "    </tr>\n",
       "    <tr>\n",
       "      <th>362</th>\n",
       "      <td>2009</td>\n",
       "      <td>51</td>\n",
       "      <td>4</td>\n",
       "    </tr>\n",
       "    <tr>\n",
       "      <th>363</th>\n",
       "      <td>2009</td>\n",
       "      <td>52</td>\n",
       "      <td>3</td>\n",
       "    </tr>\n",
       "  </tbody>\n",
       "</table>\n",
       "<p>364 rows × 3 columns</p>\n",
       "</div>"
      ],
      "text/plain": [
       "     Year  Epidemiological week  Influenza\n",
       "0    2003                     1          0\n",
       "1    2003                     2          0\n",
       "2    2003                     3          0\n",
       "3    2003                     4          0\n",
       "4    2003                     5          2\n",
       "..    ...                   ...        ...\n",
       "359  2009                    48          8\n",
       "360  2009                    49         10\n",
       "361  2009                    50          2\n",
       "362  2009                    51          4\n",
       "363  2009                    52          3\n",
       "\n",
       "[364 rows x 3 columns]"
      ]
     },
     "execution_count": 4,
     "metadata": {},
     "output_type": "execute_result"
    }
   ],
   "source": [
    "import numpy as np\n",
    "from scipy.integrate import odeint\n",
    "import random\n",
    "import pandas as pd\n",
    "import matplotlib.pyplot as plt\n",
    "\n",
    "df = pd.read_excel('influenza.xlsx')\n",
    "df"
   ]
  },
  {
   "cell_type": "code",
   "execution_count": 6,
   "metadata": {},
   "outputs": [
    {
     "data": {
      "text/plain": [
       "364"
      ]
     },
     "execution_count": 6,
     "metadata": {},
     "output_type": "execute_result"
    }
   ],
   "source": [
    "# Convertir a array de NumPy\n",
    "influenza_data = np.array(df['Influenza'])\n",
    "len(influenza_data)"
   ]
  },
  {
   "cell_type": "code",
   "execution_count": null,
   "metadata": {},
   "outputs": [],
   "source": [
    "# Definir el modelo SEIRS individual\n",
    "def modelo(y, t, beta, gamma, eta, mu, theta, N):\n",
    "    S, E, I, R = y\n",
    "    dSdt = mu * N - (beta * S * I / N) - mu * S + theta * R\n",
    "    dEdt = (beta * S * I / N) - (mu + gamma) * E\n",
    "    dIdt = gamma * E - (mu + eta) * I\n",
    "    dRdt = eta * I - (mu + theta) * R\n",
    "    return [dSdt, dEdt, dIdt, dRdt]\n",
    "\n",
    "# Función para simular el modelo en el tiempo\n",
    "def sim_modelo(params, S0, E0, I0, R0, N, time):\n",
    "    beta, gamma, eta, mu, theta = params\n",
    "    y0 = [S0, E0, I0, R0]\n",
    "    ret = odeint(modelo, y0, time, args=(beta, gamma, eta, mu, theta, N))\n",
    "    S, E, I, R = ret.T\n",
    "    return I  # Retornamos los infectados\n",
    "\n",
    "# Función de verosimilitud\n",
    "def likelihood(data, predicted_cases):\n",
    "    # Truncar las predicciones a 364 días (52 semanas)\n",
    "    predicted_cases = predicted_cases[:364]\n",
    "    predicted_weekly = predicted_cases.reshape(-1, 7).sum(axis=1)  # Sumar cada 7 días\n",
    "    \n",
    "    # Calcular la verosimilitud\n",
    "    sigma = np.std(data)\n",
    "    log_likelihood = -0.5 * np.sum((data - predicted_weekly)**2 / sigma**2)\n",
    "    return log_likelihood\n",
    "\n",
    "# MCMC\n",
    "def mcmc(data, param_0, iter, time, S0, E0, I0, R0, N):\n",
    "    # Parámetros iniciales\n",
    "    beta, gamma, eta, mu, theta = param_0\n",
    "    accepted_params = []\n",
    "    current_likelihood = likelihood(data, sim_modelo(param_0, S0, E0, I0, R0, N, time))\n",
    "    \n",
    "    for i in range(iter):\n",
    "        # Proponer nuevos parámetros\n",
    "        new_params = [\n",
    "            beta + random.uniform(-0.01, 0.01),\n",
    "            gamma + random.uniform(-0.01, 0.01),\n",
    "            eta + random.uniform(-0.01, 0.01),\n",
    "            mu + random.uniform(-0.001, 0.001),\n",
    "            theta + random.uniform(-0.01, 0.01)\n",
    "        ]\n",
    "        \n",
    "        # Simular el modelo con los nuevos parámetros\n",
    "        new_predicted = sim_modelo(new_params, S0, E0, I0, R0, N, time)\n",
    "        \n",
    "        # Calcular la nueva verosimilitud\n",
    "        new_likelihood = likelihood(data, new_predicted)\n",
    "        \n",
    "        # Probabilidad de aceptación\n",
    "        accept_prob = np.exp(new_likelihood - current_likelihood)\n",
    "        \n",
    "        if accept_prob > random.uniform(0, 1):\n",
    "            # Aceptar nuevos parámetros\n",
    "            beta, gamma, eta, mu, theta = new_params\n",
    "            current_likelihood = new_likelihood\n",
    "            accepted_params.append(new_params)\n",
    "    \n",
    "    return accepted_params"
   ]
  },
  {
   "cell_type": "code",
   "execution_count": 8,
   "metadata": {},
   "outputs": [
    {
     "ename": "ValueError",
     "evalue": "operands could not be broadcast together with shapes (364,) (52,) ",
     "output_type": "error",
     "traceback": [
      "\u001b[31m---------------------------------------------------------------------------\u001b[39m",
      "\u001b[31mValueError\u001b[39m                                Traceback (most recent call last)",
      "\u001b[36mCell\u001b[39m\u001b[36m \u001b[39m\u001b[32mIn[8]\u001b[39m\u001b[32m, line 13\u001b[39m\n\u001b[32m     10\u001b[39m time = np.arange(\u001b[32m0\u001b[39m, \u001b[32m364\u001b[39m, \u001b[32m1\u001b[39m)  \u001b[38;5;66;03m# 52 semanas (364 días)\u001b[39;00m\n\u001b[32m     12\u001b[39m \u001b[38;5;66;03m# Ejecutar MCMC\u001b[39;00m\n\u001b[32m---> \u001b[39m\u001b[32m13\u001b[39m accepted_params = \u001b[43mmcmc\u001b[49m\u001b[43m(\u001b[49m\u001b[43minfluenza_data\u001b[49m\u001b[43m,\u001b[49m\u001b[43m \u001b[49m\u001b[43mparam_0\u001b[49m\u001b[43m,\u001b[49m\u001b[43m \u001b[49m\u001b[38;5;28;43miter\u001b[39;49m\u001b[43m=\u001b[49m\u001b[32;43m10000\u001b[39;49m\u001b[43m,\u001b[49m\u001b[43m \u001b[49m\u001b[43mtime\u001b[49m\u001b[43m=\u001b[49m\u001b[43mtime\u001b[49m\u001b[43m,\u001b[49m\u001b[43m \u001b[49m\u001b[43mS0\u001b[49m\u001b[43m=\u001b[49m\u001b[43mS0\u001b[49m\u001b[43m,\u001b[49m\u001b[43m \u001b[49m\u001b[43mE0\u001b[49m\u001b[43m=\u001b[49m\u001b[43mE0\u001b[49m\u001b[43m,\u001b[49m\u001b[43m \u001b[49m\u001b[43mI0\u001b[49m\u001b[43m=\u001b[49m\u001b[43mI0\u001b[49m\u001b[43m,\u001b[49m\u001b[43m \u001b[49m\u001b[43mR0\u001b[49m\u001b[43m=\u001b[49m\u001b[43mR0\u001b[49m\u001b[43m,\u001b[49m\u001b[43m \u001b[49m\u001b[43mN\u001b[49m\u001b[43m=\u001b[49m\u001b[43mN\u001b[49m\u001b[43m)\u001b[49m\n\u001b[32m     15\u001b[39m \u001b[38;5;66;03m# Convertir los parámetros aceptados a un array de NumPy\u001b[39;00m\n\u001b[32m     16\u001b[39m accepted_params = np.array(accepted_params)\n",
      "\u001b[36mCell\u001b[39m\u001b[36m \u001b[39m\u001b[32mIn[7]\u001b[39m\u001b[32m, line 34\u001b[39m, in \u001b[36mmcmc\u001b[39m\u001b[34m(data, param_0, iter, time, S0, E0, I0, R0, N)\u001b[39m\n\u001b[32m     32\u001b[39m beta, gamma, eta, mu, theta = param_0\n\u001b[32m     33\u001b[39m accepted_params = []\n\u001b[32m---> \u001b[39m\u001b[32m34\u001b[39m current_likelihood = \u001b[43mlikelihood\u001b[49m\u001b[43m(\u001b[49m\u001b[43mdata\u001b[49m\u001b[43m,\u001b[49m\u001b[43m \u001b[49m\u001b[43msim_modelo\u001b[49m\u001b[43m(\u001b[49m\u001b[43mparam_0\u001b[49m\u001b[43m,\u001b[49m\u001b[43m \u001b[49m\u001b[43mS0\u001b[49m\u001b[43m,\u001b[49m\u001b[43m \u001b[49m\u001b[43mE0\u001b[49m\u001b[43m,\u001b[49m\u001b[43m \u001b[49m\u001b[43mI0\u001b[49m\u001b[43m,\u001b[49m\u001b[43m \u001b[49m\u001b[43mR0\u001b[49m\u001b[43m,\u001b[49m\u001b[43m \u001b[49m\u001b[43mN\u001b[49m\u001b[43m,\u001b[49m\u001b[43m \u001b[49m\u001b[43mtime\u001b[49m\u001b[43m)\u001b[49m\u001b[43m)\u001b[49m\n\u001b[32m     36\u001b[39m \u001b[38;5;28;01mfor\u001b[39;00m i \u001b[38;5;129;01min\u001b[39;00m \u001b[38;5;28mrange\u001b[39m(\u001b[38;5;28miter\u001b[39m):\n\u001b[32m     37\u001b[39m     \u001b[38;5;66;03m# Proponer nuevos parámetros\u001b[39;00m\n\u001b[32m     38\u001b[39m     new_params = [\n\u001b[32m     39\u001b[39m         beta + random.uniform(-\u001b[32m0.01\u001b[39m, \u001b[32m0.01\u001b[39m),\n\u001b[32m     40\u001b[39m         gamma + random.uniform(-\u001b[32m0.01\u001b[39m, \u001b[32m0.01\u001b[39m),\n\u001b[32m   (...)\u001b[39m\u001b[32m     43\u001b[39m         theta + random.uniform(-\u001b[32m0.01\u001b[39m, \u001b[32m0.01\u001b[39m)\n\u001b[32m     44\u001b[39m     ]\n",
      "\u001b[36mCell\u001b[39m\u001b[36m \u001b[39m\u001b[32mIn[7]\u001b[39m\u001b[32m, line 26\u001b[39m, in \u001b[36mlikelihood\u001b[39m\u001b[34m(data, predicted_cases)\u001b[39m\n\u001b[32m     24\u001b[39m \u001b[38;5;66;03m# Calcular la verosimilitud\u001b[39;00m\n\u001b[32m     25\u001b[39m sigma = np.std(data)\n\u001b[32m---> \u001b[39m\u001b[32m26\u001b[39m log_likelihood = -\u001b[32m0.5\u001b[39m * np.sum((\u001b[43mdata\u001b[49m\u001b[43m \u001b[49m\u001b[43m-\u001b[49m\u001b[43m \u001b[49m\u001b[43mpredicted_weekly\u001b[49m)**\u001b[32m2\u001b[39m / sigma**\u001b[32m2\u001b[39m)\n\u001b[32m     27\u001b[39m \u001b[38;5;28;01mreturn\u001b[39;00m log_likelihood\n",
      "\u001b[31mValueError\u001b[39m: operands could not be broadcast together with shapes (364,) (52,) "
     ]
    }
   ],
   "source": [
    "# Parámetros iniciales\n",
    "param_0 = [0.5, 0.2, 0.1, 0.01, 0.01]  # beta, gamma, eta, mu, theta\n",
    "\n",
    "# Condiciones iniciales\n",
    "N = 1000000  # Población total\n",
    "S0 = N - 1   # Susceptibles iniciales\n",
    "E0, I0, R0 = 0, 1, 0  # Expuestos, infectados y recuperados iniciales\n",
    "\n",
    "# Tiempo de simulación (diario)\n",
    "time = np.arange(0, 364, 1)  # 52 semanas (364 días)\n",
    "\n",
    "# Ejecutar MCMC\n",
    "accepted_params = mcmc(influenza_data, param_0, iter=10000, time=time, S0=S0, E0=E0, I0=I0, R0=R0, N=N)\n",
    "\n",
    "# Convertir los parámetros aceptados a un array de NumPy\n",
    "accepted_params = np.array(accepted_params)"
   ]
  },
  {
   "cell_type": "code",
   "execution_count": 9,
   "metadata": {},
   "outputs": [
    {
     "ename": "NameError",
     "evalue": "name 'accepted_params' is not defined",
     "output_type": "error",
     "traceback": [
      "\u001b[31m---------------------------------------------------------------------------\u001b[39m",
      "\u001b[31mNameError\u001b[39m                                 Traceback (most recent call last)",
      "\u001b[36mCell\u001b[39m\u001b[36m \u001b[39m\u001b[32mIn[9]\u001b[39m\u001b[32m, line 6\u001b[39m\n\u001b[32m      4\u001b[39m \u001b[38;5;28;01mfor\u001b[39;00m i \u001b[38;5;129;01min\u001b[39;00m \u001b[38;5;28mrange\u001b[39m(\u001b[32m5\u001b[39m):\n\u001b[32m      5\u001b[39m     plt.subplot(\u001b[32m2\u001b[39m, \u001b[32m3\u001b[39m, i+\u001b[32m1\u001b[39m)\n\u001b[32m----> \u001b[39m\u001b[32m6\u001b[39m     plt.hist(\u001b[43maccepted_params\u001b[49m[:, i], bins=\u001b[32m30\u001b[39m, color=\u001b[33m'\u001b[39m\u001b[33mblue\u001b[39m\u001b[33m'\u001b[39m, alpha=\u001b[32m0.7\u001b[39m)\n\u001b[32m      7\u001b[39m     plt.title(\u001b[33mf\u001b[39m\u001b[33m'\u001b[39m\u001b[33mDistribución de \u001b[39m\u001b[38;5;132;01m{\u001b[39;00mparam_names[i]\u001b[38;5;132;01m}\u001b[39;00m\u001b[33m'\u001b[39m)\n\u001b[32m      8\u001b[39m plt.tight_layout()\n",
      "\u001b[31mNameError\u001b[39m: name 'accepted_params' is not defined"
     ]
    },
    {
     "data": {
      "image/png": "[encoded data removed]",
      "text/plain": [
       "<Figure size 1200x800 with 1 Axes>"
      ]
     },
     "metadata": {},
     "output_type": "display_data"
    }
   ],
   "source": [
    "# Graficar las distribuciones posteriores de los parámetros\n",
    "plt.figure(figsize=(12, 8))\n",
    "param_names = ['beta', 'gamma', 'eta', 'mu', 'theta']\n",
    "for i in range(5):\n",
    "    plt.subplot(2, 3, i+1)\n",
    "    plt.hist(accepted_params[:, i], bins=30, color='blue', alpha=0.7)\n",
    "    plt.title(f'Distribución de {param_names[i]}')\n",
    "plt.tight_layout()\n",
    "plt.show()\n",
    "\n",
    "# Validación del modelo\n",
    "best_params = accepted_params[-1]  # Usar los últimos parámetros aceptados\n",
    "predicted = sim_modelo(best_params, S0, E0, I0, R0, N, time)\n",
    "\n",
    "# Truncar las predicciones a 52 semanas\n",
    "predicted_weekly = predicted[:364].reshape(-1, 7).sum(axis=1)\n",
    "\n",
    "# Graficar los resultados\n",
    "plt.figure(figsize=(10, 6))\n",
    "plt.plot(influenza_data, 'ro', label='Datos observados de influenza')\n",
    "plt.plot(predicted_weekly, 'b-', label='Predicciones del modelo')\n",
    "plt.xlabel('Semanas')\n",
    "plt.ylabel('Casos de influenza')\n",
    "plt.legend()\n",
    "plt.show()\n",
    "\n",
    "# Calcular el Error Cuadrático Medio (MSE)\n",
    "mse = np.mean((influenza_data - predicted_weekly)**2)\n",
    "print(f'MSE: {mse}')\n",
    "\n",
    "# Calcular el Coeficiente de Determinación (R²)\n",
    "def r_squared(observed, predicted):\n",
    "    mean_observed = np.mean(observed)\n",
    "    ss_total = np.sum((observed - mean_observed)**2)\n",
    "    ss_residual = np.sum((observed - predicted)**2)\n",
    "    return 1 - (ss_residual / ss_total)\n",
    "\n",
    "r2 = r_squared(influenza_data, predicted_weekly)\n",
    "print(f'R²: {r2}')"
   ]
  },
  {
   "cell_type": "code",
   "execution_count": null,
   "metadata": {},
   "outputs": [],
   "source": []
  }
 ],
 "metadata": {
  "kernelspec": {
   "display_name": "Python 3",
   "language": "python",
   "name": "python3"
  },
  "language_info": {
   "codemirror_mode": {
    "name": "ipython",
    "version": 3
   },
   "file_extension": ".py",
   "mimetype": "text/x-python",
   "name": "python",
   "nbconvert_exporter": "python",
   "pygments_lexer": "ipython3",
   "version": "3.13.2"
  }
 },
 "nbformat": 4,
 "nbformat_minor": 2
}
