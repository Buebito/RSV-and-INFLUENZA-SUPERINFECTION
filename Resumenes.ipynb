{
 "cells": [
  {
   "cell_type": "markdown",
   "id": "048d1c12",
   "metadata": {},
   "source": [
    "# Enfermedades infecciosas"
   ]
  },
  {
   "cell_type": "markdown",
   "id": "4d118bdc",
   "metadata": {},
   "source": [
    "# Que es la epidemología?\n",
    "\n",
    "## Epidemología matematica\n",
    "\n",
    "\n",
    "# Historia\n",
    "\n",
    "#### 1760: Daniel Bernoulli \n",
    "\n",
    "publicó un tratado sobre la eepidemologia de la peste que abatia Europa. \n",
    "Las enfermedades infecciosas se transmiten por contacto entre individuo susceptible y uno enfermo infeccioso. \n",
    "\n",
    "#### Hamer 1906\n",
    " formulo la ley de accion de masas que establece que el numero de contactos infecciosos (que producen la enferedad) es proporcional al numero total de contactos entre individuos inffecciosos y sanos. \n",
    "\n",
    "#### Ronald Roos \n",
    "formulo un modelo sencillo para rgumentar que para erradicar el paludismo era suficiente con disminuir la poblacion de mosquitos sin extinguirla necesariamente.\n",
    "\n",
    "#### Kermack y Kendrick 1927 epidemoa peste en INdia 1906\n",
    "\n",
    "Fig. \n",
    "\n"
   ]
  },
  {
   "cell_type": "markdown",
   "id": "3981c6a6",
   "metadata": {},
   "source": []
  }
 ],
 "metadata": {
  "language_info": {
   "name": "python"
  }
 },
 "nbformat": 4,
 "nbformat_minor": 5
}
