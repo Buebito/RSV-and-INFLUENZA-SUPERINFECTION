{
 "cells": [
  {
   "cell_type": "markdown",
   "metadata": {},
   "source": [
    "## Liberías a utilizar"
   ]
  },
  {
   "cell_type": "code",
   "execution_count": 5,
   "metadata": {},
   "outputs": [],
   "source": [
    "import numpy as np\n",
    "from scipy.integrate import odeint\n",
    "import random\n",
    "import pandas as pd"
   ]
  },
  {
   "cell_type": "markdown",
   "metadata": {},
   "source": [
    "## Funciones Modelo y Verosimilitud"
   ]
  },
  {
   "cell_type": "code",
   "execution_count": 6,
   "metadata": {},
   "outputs": [],
   "source": [
    "\"\"\"\n",
    "Funciones para el modelo SIR\n",
    "\"\"\"\n",
    "# MODELO\n",
    "def modelo(y, t, beta, gamma, eta, mu, theta, N):\n",
    "    S, E, I, R = y\n",
    "    dSdt = mu * N - (beta * S * I / N) - mu * S + theta * R\n",
    "    dEdt = (beta * S * I / N) - (mu + gamma) * E\n",
    "    dIdt = gamma * E - (mu + eta) * I\n",
    "    dRdt = eta * I - (mu + theta) * R\n",
    "    return [dSdt, dEdt, dIdt, dRdt]\n",
    "\n",
    "# Modelo en el tiempo ****PRUEBA****\n",
    "def sim_mod_time(beta, gamma, eta, mu, theta, S0, E0, I0, R0, N, time):\n",
    "    # Cond Iniciales\n",
    "    y0 = [S0, E0, I0, R0]\n",
    "    # Resolvemos el sistema\n",
    "    ret = odeint(modelo, y0, time, args=(beta, gamma, eta, mu, theta, N))\n",
    "    # Obtenemos los valores de I para luego compararlos con los datos reales\n",
    "    S, E, I, R = ret.T\n",
    "    return I\n",
    "\n",
    "\"\"\"\n",
    "Funciones estadísticas\n",
    "\"\"\"\n",
    "\n",
    "# Verosimilitud que nos ayude a comparar los datos reales con los simulados\n",
    "def likelihood(data, predicted_cases):\n",
    "    # Asumimos normalidad de errores xd\n",
    "    sigma = np.std(data) \n",
    "    return -0.5 * np.sum((data - predicted_cases)**2 / sigma**2)\n"
   ]
  },
  {
   "cell_type": "markdown",
   "metadata": {},
   "source": [
    "## MCMC\n",
    "\n",
    "Utilizaremos Metroplosi Hasting, un método MCMC que propone nuevos valores de estimadores y decide si los acepta o rechaza."
   ]
  },
  {
   "cell_type": "code",
   "execution_count": 7,
   "metadata": {},
   "outputs": [],
   "source": [
    "\"\"\"\n",
    "MCMC\n",
    "\"\"\"\n",
    "\n",
    "# !!******PRUEBA 1 DE MCMC******!!\n",
    "def mcmc(data, param_0, iter, time):\n",
    "    # Parametros iniciales la neta completamente aleatorios jajsjdlkajdfkjasdf\n",
    "    beta, gamma, eta, mu, theta = param_0\n",
    "    # Parametros aceptados\n",
    "    accepted_params = []\n",
    "    # Verosimilitud actual\n",
    "    current_likelihood = likelihood(data, sim_mod_time(beta, gamma, eta, mu, theta, S0, E0, I0, R0, N, time))\n",
    "    \n",
    "    for i in range(iter):\n",
    "        # Se proponen nuevos parametros, con una distribucion uniforme, moviendolos poquito namas\n",
    "        new_params = [\n",
    "            beta + random.uniform(-0.01, 0.01),\n",
    "            gamma + random.uniform(-0.01, 0.01),\n",
    "            eta + random.uniform(-0.01, 0.01),\n",
    "            mu + random.uniform(-0.001, 0.001),\n",
    "            theta + random.uniform(-0.01, 0.01)\n",
    "        ]\n",
    "        \n",
    "         \n",
    "        new_predicted = sim_mod_time(*new_params, S0, E0, I0, R0, N, time)\n",
    "        \n",
    "        # Calculate new likelihood\n",
    "        new_likelihood = likelihood(data, new_predicted)\n",
    "        \n",
    "        # Acceptance probability\n",
    "        accept_prob = np.exp(new_likelihood - current_likelihood)\n",
    "        \n",
    "        if accept_prob > random.uniform(0, 1):\n",
    "            # Accept new parameters\n",
    "            beta, gamma, eta, mu, theta = new_params\n",
    "            current_likelihood = new_likelihood\n",
    "            accepted_params.append(new_params)\n",
    "    \n",
    "    return accepted_params"
   ]
  },
  {
   "cell_type": "code",
   "execution_count": 9,
   "metadata": {},
   "outputs": [
    {
     "name": "stderr",
     "output_type": "stream",
     "text": [
      "C:\\Users\\lebue\\AppData\\Local\\Temp\\ipykernel_4308\\3102774617.py:31: RuntimeWarning: overflow encountered in exp\n",
      "  accept_prob = np.exp(new_likelihood - current_likelihood)\n",
      "c:\\Users\\lebue\\AppData\\Local\\Programs\\Python\\Python311\\Lib\\site-packages\\scipy\\integrate\\_odepack_py.py:248: ODEintWarning: Excess work done on this call (perhaps wrong Dfun type). Run with full_output = 1 to get quantitative information.\n",
      "  warnings.warn(warning_msg, ODEintWarning)\n"
     ]
    },
    {
     "data": {
      "text/plain": [
       "[[0.19373077024608593,\n",
       "  0.09187719853902672,\n",
       "  0.059405129303032926,\n",
       "  0.0013144144048149217,\n",
       "  0.0020634383964109153],\n",
       " [0.20242729763371128,\n",
       "  0.08742397598050501,\n",
       "  0.06833770005584296,\n",
       "  0.0019368021456473744,\n",
       "  -0.003791734181811734],\n",
       " [0.20256314910711182,\n",
       "  0.08126061286019164,\n",
       "  0.07678043648263945,\n",
       "  0.0009989040704251827,\n",
       "  -0.0011154754125369901],\n",
       " [0.1977049614565995,\n",
       "  0.0807500242548351,\n",
       "  0.07645773616029292,\n",
       "  0.001375317509198191,\n",
       "  -0.002502627617136252],\n",
       " [0.19855827101580092,\n",
       "  0.08376186630558244,\n",
       "  0.08567778426625125,\n",
       "  0.0018984246423900423,\n",
       "  -0.010854366753285717]]"
      ]
     },
     "execution_count": 9,
     "metadata": {},
     "output_type": "execute_result"
    }
   ],
   "source": [
    "cleaned_data = pd.read_csv('cleaned_epidemiology_data.csv')\n",
    "\n",
    "param_0 = [0.2, 0.1, 0.05, 0.001, 0.01]\n",
    "\n",
    "time = np.linspace(0, len(cleaned_data), len(cleaned_data)) \n",
    "\n",
    "S0 = 999900\n",
    "E0 = 100\n",
    "I0 = cleaned_data['new_confirmed'].iloc[0]\n",
    "R0 = 0\n",
    "N = S0 + E0 + I0 + R0 \n",
    "\n",
    "\n",
    "iter = 5000\n",
    "mcmc_results = mcmc(cleaned_data['new_confirmed'].values, param_0, iter , time)\n",
    "\n",
    "\n",
    "mcmc_results[:5]\n"
   ]
  },
  {
   "cell_type": "code",
   "execution_count": null,
   "metadata": {},
   "outputs": [],
   "source": []
  }
 ],
 "metadata": {
  "kernelspec": {
   "display_name": "Python 3",
   "language": "python",
   "name": "python3"
  },
  "language_info": {
   "codemirror_mode": {
    "name": "ipython",
    "version": 3
   },
   "file_extension": ".py",
   "mimetype": "text/x-python",
   "name": "python",
   "nbconvert_exporter": "python",
   "pygments_lexer": "ipython3",
   "version": "3.11.3"
  }
 },
 "nbformat": 4,
 "nbformat_minor": 2
}
